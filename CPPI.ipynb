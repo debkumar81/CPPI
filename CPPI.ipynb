{
 "cells": [
  {
   "cell_type": "markdown",
   "metadata": {},
   "source": [
    "# Modified CPPI\n",
    "\n",
    "Here I am going to implement Constant Proportion Portfolio Insurance(CPPI) and Drawdown Constraints with some modification. One can think CPPI as the theoritical foundation of 60:40 portfolios. In this exercize, I am going to do historical backtesting with changing risk avaersion parameter.\n",
    "\n",
    "### Basic CPPI :\n",
    "Floor - below which you do not want your asset to fall\n",
    "m - multiplier\n",
    "Cushion : Asset Value - Floor Value\n",
    "Allocation to Risky Asset : m*Cushion\n",
    "\n",
    "Floor = 80% and m = 3 gives us 60:40 portfolio.\n",
    "\n",
    "#### Adjustment to Cushion\n",
    "Rather than calculating Cushion based on current Asset Value, I am going to calculate Cushion based on Peak Asset Value. This will result in smaller Drawdown and more conservative portfolio.\n",
    "\n",
    "For more on CPPI, see https://en.wikipedia.org/wiki/Constant_proportion_portfolio_insurance"
   ]
  },
  {
   "cell_type": "code",
   "execution_count": 1,
   "metadata": {},
   "outputs": [
    {
     "ename": "ModuleNotFoundError",
     "evalue": "No module named 'yfinance'",
     "output_type": "error",
     "traceback": [
      "\u001b[1;31m---------------------------------------------------------------------------\u001b[0m",
      "\u001b[1;31mModuleNotFoundError\u001b[0m                       Traceback (most recent call last)",
      "\u001b[1;32m<ipython-input-1-78dc1e7edc3f>\u001b[0m in \u001b[0;36m<module>\u001b[1;34m\u001b[0m\n\u001b[0;32m      5\u001b[0m \u001b[1;32mimport\u001b[0m \u001b[0mnumpy\u001b[0m \u001b[1;32mas\u001b[0m \u001b[0mnp\u001b[0m\u001b[1;33m\u001b[0m\u001b[1;33m\u001b[0m\u001b[0m\n\u001b[0;32m      6\u001b[0m \u001b[1;32mimport\u001b[0m \u001b[0mscipy\u001b[0m\u001b[1;33m.\u001b[0m\u001b[0mstats\u001b[0m \u001b[1;32mas\u001b[0m \u001b[0mst\u001b[0m\u001b[1;33m\u001b[0m\u001b[1;33m\u001b[0m\u001b[0m\n\u001b[1;32m----> 7\u001b[1;33m \u001b[1;32mimport\u001b[0m \u001b[0myfinance\u001b[0m \u001b[1;32mas\u001b[0m \u001b[0myf\u001b[0m\u001b[1;33m\u001b[0m\u001b[1;33m\u001b[0m\u001b[0m\n\u001b[0m\u001b[0;32m      8\u001b[0m \u001b[1;32mimport\u001b[0m \u001b[0mpandas_datareader\u001b[0m\u001b[1;33m.\u001b[0m\u001b[0mdata\u001b[0m \u001b[1;32mas\u001b[0m \u001b[0mweb\u001b[0m\u001b[1;33m\u001b[0m\u001b[1;33m\u001b[0m\u001b[0m\n\u001b[0;32m      9\u001b[0m \u001b[1;32mimport\u001b[0m \u001b[0mdatetime\u001b[0m\u001b[1;33m\u001b[0m\u001b[1;33m\u001b[0m\u001b[0m\n",
      "\u001b[1;31mModuleNotFoundError\u001b[0m: No module named 'yfinance'"
     ]
    }
   ],
   "source": [
    "%load_ext autoreload\n",
    "%autoreload 2\n",
    "\n",
    "import pandas as pd\n",
    "import numpy as np\n",
    "import scipy.stats as st\n",
    "import yfinance as yf\n",
    "import pandas_datareader.data as web\n",
    "import datetime"
   ]
  },
  {
   "cell_type": "markdown",
   "metadata": {},
   "source": [
    "### Data\n",
    "For this strategy, we need two asset - risky/agressive and safe/defensive. One can choose which ever they like. For my excercize, I am going to use S&P 500 as my risky/agressive asset simply because it is well known and has long history. For my safe/defensive asset, I am goig to use LBUSTRUU Index. One can use any asset combination they like. \n",
    "\n",
    "I am going to use monthly data. But this can also be implemented at other frequencies. "
   ]
  },
  {
   "cell_type": "code",
   "execution_count": 3,
   "metadata": {},
   "outputs": [
    {
     "name": "stdout",
     "output_type": "stream",
     "text": [
      "[*********************100%***********************]  1 of 1 completed\n",
      "                 Open       High        Low      Close  Volume\n",
      "Date                                                          \n",
      "1927-12-01  17.660000  17.660000  17.660000  17.660000       0\n",
      "1928-01-01  17.760000  17.760000  17.260000  17.570000       0\n",
      "1928-02-01  17.530001  17.629999  16.950001  17.260000       0\n",
      "1928-03-01  17.299999  19.280001  17.299999  19.280001       0\n",
      "1928-04-01  18.910000  19.750000  18.910000  19.750000       0\n",
      "<class 'pandas.core.frame.DataFrame'>\n",
      "DatetimeIndex: 1114 entries, 1927-12-01 to 2020-08-07\n",
      "Data columns (total 1 columns):\n",
      " #   Column  Non-Null Count  Dtype  \n",
      "---  ------  --------------  -----  \n",
      " 0   Close   1114 non-null   float64\n",
      "dtypes: float64(1)\n",
      "memory usage: 17.4 KB\n"
     ]
    }
   ],
   "source": [
    "data = yf.download(  # or pdr.get_data_yahoo(...\n",
    "        # tickers list or string as well\n",
    "        tickers = \"^GSPC\",\n",
    "\n",
    "        # use \"period\" instead of start/end\n",
    "        # valid periods: 1d,5d,1mo,3mo,6mo,1y,2y,5y,10y,ytd,max\n",
    "        # (optional, default is '1mo')\n",
    "        period = \"max\",\n",
    "\n",
    "        # fetch data by interval (including intraday if period < 60 days)\n",
    "        # valid intervals: 1m,2m,5m,15m,30m,60m,90m,1h,1d,5d,1wk,1mo,3mo\n",
    "        # (optional, default is '1d')\n",
    "        interval = \"1mo\",\n",
    "\n",
    "        # group by ticker (to access via data['SPY'])\n",
    "        # (optional, default is 'column')\n",
    "        group_by = 'ticker',\n",
    "\n",
    "        # adjust all OHLC automatically\n",
    "        # (optional, default is False)\n",
    "        auto_adjust = True,\n",
    "\n",
    "        # download pre/post regular market hours data\n",
    "        # (optional, default is False)\n",
    "        prepost = True,\n",
    "\n",
    "        # use threads for mass downloading? (True/False/Integer)\n",
    "        # (optional, default is True)\n",
    "        threads = True,\n",
    "\n",
    "        # proxy URL scheme use use when downloading?\n",
    "        # (optional, default is None)\n",
    "        proxy = None\n",
    ")\n",
    "\n",
    "print(data.head())\n",
    "\n",
    "SP500 = pd.DataFrame(data['Close'], columns = ['Close'])\n",
    "SP500.info()"
   ]
  },
  {
   "cell_type": "markdown",
   "metadata": {},
   "source": []
  },
  {
   "cell_type": "code",
   "execution_count": 6,
   "metadata": {},
   "outputs": [
    {
     "data": {
      "text/html": [
       "<div>\n",
       "<style scoped>\n",
       "    .dataframe tbody tr th:only-of-type {\n",
       "        vertical-align: middle;\n",
       "    }\n",
       "\n",
       "    .dataframe tbody tr th {\n",
       "        vertical-align: top;\n",
       "    }\n",
       "\n",
       "    .dataframe thead th {\n",
       "        text-align: right;\n",
       "    }\n",
       "</style>\n",
       "<table border=\"1\" class=\"dataframe\">\n",
       "  <thead>\n",
       "    <tr style=\"text-align: right;\">\n",
       "      <th></th>\n",
       "      <th>Close</th>\n",
       "      <th>Return</th>\n",
       "    </tr>\n",
       "    <tr>\n",
       "      <th>Date</th>\n",
       "      <th></th>\n",
       "      <th></th>\n",
       "    </tr>\n",
       "  </thead>\n",
       "  <tbody>\n",
       "    <tr>\n",
       "      <th>1928-01-01</th>\n",
       "      <td>17.570000</td>\n",
       "      <td>-0.005096</td>\n",
       "    </tr>\n",
       "    <tr>\n",
       "      <th>1928-02-01</th>\n",
       "      <td>17.260000</td>\n",
       "      <td>-0.017644</td>\n",
       "    </tr>\n",
       "    <tr>\n",
       "      <th>1928-03-01</th>\n",
       "      <td>19.280001</td>\n",
       "      <td>0.117034</td>\n",
       "    </tr>\n",
       "    <tr>\n",
       "      <th>1928-04-01</th>\n",
       "      <td>19.750000</td>\n",
       "      <td>0.024378</td>\n",
       "    </tr>\n",
       "    <tr>\n",
       "      <th>1928-05-01</th>\n",
       "      <td>20.000000</td>\n",
       "      <td>0.012658</td>\n",
       "    </tr>\n",
       "    <tr>\n",
       "      <th>...</th>\n",
       "      <td>...</td>\n",
       "      <td>...</td>\n",
       "    </tr>\n",
       "    <tr>\n",
       "      <th>2020-05-01</th>\n",
       "      <td>3044.310059</td>\n",
       "      <td>0.045282</td>\n",
       "    </tr>\n",
       "    <tr>\n",
       "      <th>2020-06-01</th>\n",
       "      <td>3100.290039</td>\n",
       "      <td>0.018388</td>\n",
       "    </tr>\n",
       "    <tr>\n",
       "      <th>2020-07-01</th>\n",
       "      <td>3271.120117</td>\n",
       "      <td>0.055101</td>\n",
       "    </tr>\n",
       "    <tr>\n",
       "      <th>2020-08-01</th>\n",
       "      <td>3351.280029</td>\n",
       "      <td>0.024505</td>\n",
       "    </tr>\n",
       "    <tr>\n",
       "      <th>2020-08-07</th>\n",
       "      <td>3351.280029</td>\n",
       "      <td>0.000000</td>\n",
       "    </tr>\n",
       "  </tbody>\n",
       "</table>\n",
       "<p>1113 rows × 2 columns</p>\n",
       "</div>"
      ],
      "text/plain": [
       "                  Close    Return\n",
       "Date                             \n",
       "1928-01-01    17.570000 -0.005096\n",
       "1928-02-01    17.260000 -0.017644\n",
       "1928-03-01    19.280001  0.117034\n",
       "1928-04-01    19.750000  0.024378\n",
       "1928-05-01    20.000000  0.012658\n",
       "...                 ...       ...\n",
       "2020-05-01  3044.310059  0.045282\n",
       "2020-06-01  3100.290039  0.018388\n",
       "2020-07-01  3271.120117  0.055101\n",
       "2020-08-01  3351.280029  0.024505\n",
       "2020-08-07  3351.280029  0.000000\n",
       "\n",
       "[1113 rows x 2 columns]"
      ]
     },
     "execution_count": 6,
     "metadata": {},
     "output_type": "execute_result"
    }
   ],
   "source": [
    "SP500['Return'] = (SP500['Close']/ SP500['Close'].shift(1)) -1\n",
    "SP500.dropna(inplace = True)\n",
    "SP500"
   ]
  },
  {
   "cell_type": "code",
   "execution_count": null,
   "metadata": {},
   "outputs": [],
   "source": [
    "import matplotlib.pyplot as plt\n",
    "\n",
    "fig, ax1 = plt.subplots(figsize = (12, 6))\n",
    "ax2 = ax1.twinx()\n",
    "\n",
    "\n",
    "ax1.plot(SP500['Close'], color = \"blue\", label = 'Price') \n",
    "ax2.plot(SP500['Return'], 'k:', color = \"c\", label = 'Monthly Return')\n",
    "ax2.axhline(y = 0, color = \"black\")\n",
    "\n",
    "ax1.set_xlabel('Date')\n",
    "ax1.set_ylabel('Price')\n",
    "ax2.set_ylabel('Monthly Return')\n",
    "ax1.set_title('S&P 500')\n",
    "#ax1.legend(fontsize=10)\n",
    "#ax2.legend(fontsize=10)\n",
    "# ask matplotlib for the plotted objects and their labels\n",
    "#lines, labels = ax1.get_legend_handles_labels()\n",
    "#lines2, labels2 = ax2.get_legend_handles_labels()\n",
    "#ax2.legend(lines + lines2, labels + labels2, loc=0)\n",
    "\n",
    "fig.legend(loc=\"upper left\", bbox_to_anchor=(0,1), bbox_transform=ax1.transAxes)\n",
    "fig.tight_layout()\n",
    "plt.show()"
   ]
  },
  {
   "cell_type": "code",
   "execution_count": null,
   "metadata": {},
   "outputs": [],
   "source": [
    "print(SP500.head())"
   ]
  },
  {
   "cell_type": "markdown",
   "metadata": {},
   "source": [
    "#### LBUSTRUU Index "
   ]
  },
  {
   "cell_type": "code",
   "execution_count": null,
   "metadata": {},
   "outputs": [],
   "source": [
    "bond = pd.read_csv(\"bond.csv\", index_col = \"Date\", parse_dates=True)"
   ]
  },
  {
   "cell_type": "code",
   "execution_count": null,
   "metadata": {},
   "outputs": [],
   "source": [
    "print(bond.head())\n",
    "print(bond.info())"
   ]
  },
  {
   "cell_type": "code",
   "execution_count": null,
   "metadata": {},
   "outputs": [],
   "source": [
    "bond.columns = ['Bond_Close']\n",
    "bond['Return'] = (bond['Bond_Close']/ bond['Bond_Close'].shift(1)) -1\n",
    "bond.dropna(inplace = True)"
   ]
  },
  {
   "cell_type": "code",
   "execution_count": null,
   "metadata": {},
   "outputs": [],
   "source": [
    "fig, ax1 = plt.subplots(figsize = (12, 6))\n",
    "ax2 = ax1.twinx()\n",
    "\n",
    "\n",
    "ax1.plot(bond['Bond_Close'], color = \"blue\", label = 'Price') \n",
    "ax2.plot(bond['Return'], 'k:', color = \"c\", label = 'Monthly Return')\n",
    "ax2.axhline(y = 0, color = \"black\")\n",
    "\n",
    "ax1.set_xlabel('Date')\n",
    "ax1.set_ylabel('Index')\n",
    "ax2.set_ylabel('Monthly Return')\n",
    "ax1.set_title('Bloomberg Barclays US Agg Total Return Value Unhedged USD( LBUSTRUU Index)')\n",
    "#ax1.legend(fontsize=10)\n",
    "#ax2.legend(fontsize=10)\n",
    "# ask matplotlib for the plotted objects and their labels\n",
    "#lines, labels = ax1.get_legend_handles_labels()\n",
    "#lines2, labels2 = ax2.get_legend_handles_labels()\n",
    "#ax2.legend(lines + lines2, labels + labels2, loc=0)\n",
    "\n",
    "fig.legend(loc=\"upper left\", bbox_to_anchor=(0,1), bbox_transform=ax1.transAxes)\n",
    "fig.tight_layout()\n",
    "plt.show()"
   ]
  },
  {
   "cell_type": "markdown",
   "metadata": {},
   "source": [
    "Note - \n",
    "1. So far I have one risky-on asset and one risk-off asset. Risky asset has a longer history. It would have helped if I could have access to some risk-off asset with longer history. But this the one with longest history I have access to. \n",
    "\n",
    "2. Also notice that SP500 is not total return index, where as LBUSTRUU is. Unfortunately, Total return equivalent of SP500 has much shorter history. For now, I am  going to use these two indices, although they clearly have shortcomings."
   ]
  },
  {
   "cell_type": "code",
   "execution_count": null,
   "metadata": {},
   "outputs": [],
   "source": [
    "def run_cppi(risky_r, safe_r = None, m = 3, initW = 1000, floor = 0.8, rf = 0.05, drawdown = None):\n",
    "    \"\"\"\n",
    "    \n",
    "    \"\"\"\n",
    "    # Set-up CPPI Parameters\n",
    "    dates = risky_r.index\n",
    "    account_value = initW\n",
    "    peak = initW\n",
    "    floor_value = initW*floor\n",
    "    \n",
    "    if isinstance(risky_r, pd.Series):\n",
    "        risky_r = pd.DataFrame(risky_r, columns = [\"R\"])\n",
    "    \n",
    "    if safe_r is None:\n",
    "        safe_r = pd.DataFrame().reindex_like(risky_r)\n",
    "        safe_r[:] = rf/12\n",
    "                  \n",
    "    account_hist = pd.DataFrame().reindex_like(risky_r)\n",
    "    floor_hist = pd.DataFrame().reindex_like(risky_r)\n",
    "    cushion_hist = pd.DataFrame().reindex_like(risky_r)\n",
    "    risky_w_hist = pd.DataFrame().reindex_like(risky_r)   \n",
    "    \n",
    "    for step in range(len(dates)):\n",
    "        if drawdown is not None:\n",
    "            # Floor Value changes based on Peak and Drawdown\n",
    "            peak = np.maximum(peak, account_value)\n",
    "            floor_value = peak*(1 - drawdown)\n",
    "            \n",
    "        cushion = (account_value - floor_value)/account_value\n",
    "        risky_w = np.minimum(1, m*cushion)\n",
    "        risky_w = np.maximum(0, risky_w)\n",
    "        safe_w = 1 - risky_w\n",
    "\n",
    "        risky_allocation = account_value*risky_w\n",
    "        safe_allocation = account_value*safe_w\n",
    "        account_value = risky_allocation*(1 + risky_r.iloc[step]) + safe_allocation*(1 + safe_r.iloc[step])\n",
    "\n",
    "        # save the values in Data Frame\n",
    "        cushion_hist.iloc[step] = cushion\n",
    "        risky_w_hist.iloc[step] = risky_w\n",
    "        account_hist.iloc[step] = account_value\n",
    "        floor_hist.iloc[step] = floor_value\n",
    "    \n",
    "    risky_wealth = initW*(1 + risky_r).cumprod()\n",
    "    cppi_results = {\n",
    "        \"Wealth\" : account_hist,\n",
    "        \"Risky Wealth\" : risky_wealth,\n",
    "        \"Risk Budget\" : cushion_hist,\n",
    "        \"Risk Allocation\" : risky_w_hist,\n",
    "        \"Multiplier\" : m,\n",
    "        \"Initial Wealth\" : initW,\n",
    "        \"Floor\" : floor_hist,\n",
    "        \"Risky Return\" : risky_r,\n",
    "        \"Safe Return\" : safe_r\n",
    "    }\n",
    "    return cppi_results\n"
   ]
  },
  {
   "cell_type": "code",
   "execution_count": null,
   "metadata": {},
   "outputs": [],
   "source": []
  },
  {
   "cell_type": "code",
   "execution_count": null,
   "metadata": {},
   "outputs": [],
   "source": []
  },
  {
   "cell_type": "code",
   "execution_count": null,
   "metadata": {},
   "outputs": [],
   "source": []
  },
  {
   "cell_type": "code",
   "execution_count": null,
   "metadata": {},
   "outputs": [],
   "source": []
  },
  {
   "cell_type": "code",
   "execution_count": null,
   "metadata": {},
   "outputs": [],
   "source": []
  },
  {
   "cell_type": "code",
   "execution_count": null,
   "metadata": {},
   "outputs": [],
   "source": []
  },
  {
   "cell_type": "code",
   "execution_count": null,
   "metadata": {},
   "outputs": [],
   "source": []
  },
  {
   "cell_type": "markdown",
   "metadata": {},
   "source": [
    "### Time-varying Multiplier"
   ]
  },
  {
   "cell_type": "markdown",
   "metadata": {},
   "source": [
    "Rather than using constant multipler, in this exercize, I am going to use time varying multiplier. Multiplier signifies risk aversion. Higher value of m implies bigger position in risky asset. Assuming 40 years portfolio, I am going to assign large value of m in the begining with higher allocation to risky asset. With time, value of m should approch 0, with no allocation to risky asset in the 40th year."
   ]
  },
  {
   "cell_type": "code",
   "execution_count": 2,
   "metadata": {},
   "outputs": [],
   "source": [
    "c = -np.log(.25)/10 # Result in multiplier to be 3 at year 30 [4*(1-exp(-c*(40-30))) = 3]\n",
    "multi = pd.DataFrame(np.arange(1,41,1), columns = ['Year'])\n",
    "multi['m'] = 4*(1-np.exp(-c*(40-multi['Year'])))\n",
    "multi = multi.set_index('Year')"
   ]
  },
  {
   "cell_type": "code",
   "execution_count": 3,
   "metadata": {},
   "outputs": [
    {
     "name": "stdout",
     "output_type": "stream",
     "text": [
      "0.13862943611198905\n",
      "             m\n",
      "Year          \n",
      "1     3.982052\n",
      "2     3.979383\n",
      "3     3.976317\n",
      "4     3.972795\n",
      "5     3.968750\n"
     ]
    },
    {
     "data": {
      "text/plain": [
       "<matplotlib.axes._subplots.AxesSubplot at 0x1757ab919b0>"
      ]
     },
     "execution_count": 3,
     "metadata": {},
     "output_type": "execute_result"
    },
    {
     "data": {
      "image/png": "[encoded data removed]",
      "text/plain": [
       "<Figure size 432x288 with 1 Axes>"
      ]
     },
     "metadata": {
      "needs_background": "light"
     },
     "output_type": "display_data"
    }
   ],
   "source": [
    "print(c)\n",
    "print(multi.head())\n",
    "multi.plot(title = \"Multipler\")"
   ]
  },
  {
   "cell_type": "code",
   "execution_count": 5,
   "metadata": {},
   "outputs": [],
   "source": [
    "def getMultiplier(alpha = 0.14, t = 40):\n",
    "    # Generate time-varying multiplier for a 40 year portfolio\n",
    "    # alpha is defined such that multiplier to be 3 at year 30 : 4*(1-exp(-c*(40-30))) = 3\n",
    "    multi = pd.DataFrame(np.arange(1,(t+1),1), columns = ['Year'])\n",
    "    multi['m'] = 4*(1-np.exp(-c*(t-multi['Year'])))\n",
    "    multi = multi.set_index('Year')\n",
    "    return(multi)"
   ]
  },
  {
   "cell_type": "code",
   "execution_count": 8,
   "metadata": {},
   "outputs": [
    {
     "data": {
      "text/plain": [
       "<matplotlib.axes._subplots.AxesSubplot at 0x1757b1d2860>"
      ]
     },
     "execution_count": 8,
     "metadata": {},
     "output_type": "execute_result"
    },
    {
     "data": {
      "image/png": "[encoded data removed]",
      "text/plain": [
       "<Figure size 432x288 with 1 Axes>"
      ]
     },
     "metadata": {
      "needs_background": "light"
     },
     "output_type": "display_data"
    }
   ],
   "source": [
    "getMultiplier(alpha = 0.1, t = 50).plot(title = \"Multiplier\")"
   ]
  }
 ],
 "metadata": {
  "kernelspec": {
   "display_name": "Python 3",
   "language": "python",
   "name": "python3"
  },
  "language_info": {
   "codemirror_mode": {
    "name": "ipython",
    "version": 3
   },
   "file_extension": ".py",
   "mimetype": "text/x-python",
   "name": "python",
   "nbconvert_exporter": "python",
   "pygments_lexer": "ipython3",
   "version": "3.8.3"
  }
 },
 "nbformat": 4,
 "nbformat_minor": 4
}
